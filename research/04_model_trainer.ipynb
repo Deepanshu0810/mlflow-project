{
 "cells": [
  {
   "cell_type": "code",
   "execution_count": 1,
   "metadata": {},
   "outputs": [
    {
     "data": {
      "text/plain": [
       "'d:\\\\Programming\\\\DataScienceProjects\\\\mlflow-project'"
      ]
     },
     "execution_count": 1,
     "metadata": {},
     "output_type": "execute_result"
    }
   ],
   "source": [
    "import os\n",
    "os.chdir('../')\n",
    "%pwd"
   ]
  },
  {
   "cell_type": "code",
   "execution_count": 2,
   "metadata": {},
   "outputs": [],
   "source": [
    "from dataclasses import dataclass\n",
    "from pathlib import Path\n",
    "\n",
    "@dataclass\n",
    "class ModelTrainerConfig:\n",
    "    root_dir: Path\n",
    "    training_data_file: Path\n",
    "    testing_data_file: Path\n",
    "    model: str\n",
    "    alpha: float\n",
    "    l1_ratio: float\n",
    "    target_column: str"
   ]
  },
  {
   "cell_type": "code",
   "execution_count": 3,
   "metadata": {},
   "outputs": [],
   "source": [
    "from mlflowProject.constants import *\n",
    "from mlflowProject.utils.common import read_yaml, create_directories"
   ]
  },
  {
   "cell_type": "code",
   "execution_count": 4,
   "metadata": {},
   "outputs": [],
   "source": [
    "class ConfigurationManager:\n",
    "    def __init__(\n",
    "            self,\n",
    "            config_filepath = CONFIG_FILE_PATH,\n",
    "            param_filepath =  PARAMS_FILE_PATH,\n",
    "            schema_filepath = SCHEMA_FILE_PATH,\n",
    "    ):\n",
    "        self.config = read_yaml(config_filepath)\n",
    "        self.params = read_yaml(param_filepath)\n",
    "        self.schema = read_yaml(schema_filepath)\n",
    "\n",
    "        create_directories([self.config.artifacts_root])\n",
    "\n",
    "    def get_model_config(self) -> ModelTrainerConfig:\n",
    "        config = self.config.model_trainer\n",
    "        params = self.params\n",
    "        schema = self.schema\n",
    "\n",
    "        create_directories([config.root_dir])\n",
    "\n",
    "        model_trainer_config = ModelTrainerConfig(\n",
    "            root_dir = config.root_dir,\n",
    "            training_data_file = config.training_data_file,\n",
    "            testing_data_file = config.testing_data_file,\n",
    "            model = config.model,\n",
    "            alpha = params.ElasticNet.alpha,\n",
    "            l1_ratio = params.ElasticNet.l1_ratio,\n",
    "            target_column = schema.TARGET.name\n",
    "        )\n",
    "\n",
    "        return model_trainer_config"
   ]
  },
  {
   "cell_type": "code",
   "execution_count": 5,
   "metadata": {},
   "outputs": [],
   "source": [
    "import pandas as pd\n",
    "from mlflowProject import logger\n",
    "from sklearn.linear_model import ElasticNet\n",
    "import joblib"
   ]
  },
  {
   "cell_type": "code",
   "execution_count": 8,
   "metadata": {},
   "outputs": [],
   "source": [
    "class ModelTrainer:\n",
    "    def __init__(self, config: ModelTrainerConfig) -> None:\n",
    "        self.config = config\n",
    "\n",
    "    def train(self):\n",
    "        logger.info(\"Training model...\")\n",
    "        train = pd.read_csv(self.config.training_data_file)\n",
    "        test = pd.read_csv(self.config.testing_data_file)\n",
    "        X_train = train.drop([self.config.target_column], axis=1)\n",
    "        X_test = test.drop([self.config.target_column], axis=1)\n",
    "        y_train = train[self.config.target_column]\n",
    "        y_test = test[self.config.target_column]\n",
    "\n",
    "        lr = ElasticNet(\n",
    "            alpha=self.config.alpha,\n",
    "            l1_ratio=self.config.l1_ratio,\n",
    "            random_state=42\n",
    "        )\n",
    "        lr.fit(X_train, y_train)\n",
    "\n",
    "        joblib.dump(lr, self.config.model)\n",
    "\n",
    "        logger.info(f\"Model trained and saved\")"
   ]
  },
  {
   "cell_type": "code",
   "execution_count": 9,
   "metadata": {},
   "outputs": [
    {
     "name": "stdout",
     "output_type": "stream",
     "text": [
      "[2024-04-24 02:31:38,015: INFO: common] File loaded: config\\config.yaml\n",
      "[2024-04-24 02:31:38,018: INFO: common] File loaded: params.yaml\n",
      "[2024-04-24 02:31:38,023: INFO: common] File loaded: schema.yaml\n",
      "[2024-04-24 02:31:38,030: INFO: common] Directory already exists: artifacts\n",
      "[2024-04-24 02:31:38,031: INFO: common] Directory already exists: artifacts/model_trainer\n",
      "[2024-04-24 02:31:38,031: INFO: 3315276761] Training model...\n",
      "[2024-04-24 02:31:38,046: INFO: 3315276761] Model trained and saved\n"
     ]
    }
   ],
   "source": [
    "try:\n",
    "    config = ConfigurationManager()\n",
    "    model_config = config.get_model_config()\n",
    "    model_trainer = ModelTrainer(model_config)\n",
    "    model_trainer.train()\n",
    "except Exception as e:\n",
    "    logger.error(e)\n",
    "    raise e"
   ]
  }
 ],
 "metadata": {
  "kernelspec": {
   "display_name": "env",
   "language": "python",
   "name": "python3"
  },
  "language_info": {
   "codemirror_mode": {
    "name": "ipython",
    "version": 3
   },
   "file_extension": ".py",
   "mimetype": "text/x-python",
   "name": "python",
   "nbconvert_exporter": "python",
   "pygments_lexer": "ipython3",
   "version": "3.11.4"
  }
 },
 "nbformat": 4,
 "nbformat_minor": 2
}
